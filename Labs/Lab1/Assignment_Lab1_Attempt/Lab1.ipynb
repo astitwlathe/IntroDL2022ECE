{
 "cells": [
  {
   "cell_type": "markdown",
   "metadata": {
    "id": "VOBjwKeEm7nQ"
   },
   "source": [
    "# Lab 1: Introduction\n"
   ]
  },
  {
   "cell_type": "markdown",
   "metadata": {
    "id": "2CMkjFYsQuxF"
   },
   "source": [
    "##### __1. Briefly summarize how to set up a python programming environment on your local computer.__\n",
    "\n",
    "\n",
    "\n"
   ]
  },
  {
   "cell_type": "markdown",
   "metadata": {},
   "source": [
    "#### For setting up the python environment on my computer, I carrried out the following steps:\n",
    "\n",
    "* Install WSL 2/Ugrade from WSL 1: https://www.omgubuntu.co.uk/how-to-install-wsl2-on-windows-10\n",
    "* Install VS Code on Windows + Python extension from marketplace for running .ipynb files: https://code.visualstudio.com/\n",
    "* Install Ubuntu 20.4 on WSL 2: https://www.omgubuntu.co.uk/how-to-install-wsl2-on-windows-10\n",
    "* Install miniconda on Ubuntu 20.04: https://docs.conda.io/projects/conda/en/latest/user-guide/install/linux.html\n",
    "* Create a virtual environment: https://docs.conda.io/projects/conda/en/latest/user-guide/tasks/manage-environments.html\n",
    "* Install numpy, pandas, matplotlib in the virtual environment: https://fluiddyn.readthedocs.io/en/latest/get_good_Python_env.html\n",
    "<br><br>__Optional Setup for Pytorch on Windows WSL:__\n",
    "* Install the NVIDIA Windows Driver: https://medium.com/swlh/how-to-install-the-nvidia-cuda-toolkit-11-in-wsl2-88292cf4ab77\n",
    "* Install CUDA, cuDNN:https://medium.com/nerd-for-tech/installing-pytorch-with-gpu-support-cuda-in-ubuntu-18-04-complete-guide-edd6d51ee7ab\n",
    "* Install PyTorch: https://medium.com/nerd-for-tech/installing-pytorch-with-gpu-support-cuda-in-ubuntu-18-04-complete-guide-edd6d51ee7ab\n",
    "\n",
    "The setup is now complete and deep learning models can now be run on the system.\n"
   ]
  },
  {
   "cell_type": "markdown",
   "metadata": {
    "id": "x7xmkhCeSc_m"
   },
   "source": [
    "# Lab Assignment: Implement Neural Network for XOR gate from scratch \n"
   ]
  },
  {
   "cell_type": "markdown",
   "metadata": {},
   "source": [
    "##### __2. Implement the training code for XOR network from scratch with Numpy, please plot the output of your trained network when given the input variables of the XOR truth table.__"
   ]
  },
  {
   "cell_type": "code",
   "execution_count": 1,
   "metadata": {
    "id": "1Lu3k4tgRKMU",
    "outputId": "997e36b6-812a-426e-de16-7c39f70f633b"
   },
   "outputs": [
    {
     "data": {
      "text/html": [
       "<div>\n",
       "<style scoped>\n",
       "    .dataframe tbody tr th:only-of-type {\n",
       "        vertical-align: middle;\n",
       "    }\n",
       "\n",
       "    .dataframe tbody tr th {\n",
       "        vertical-align: top;\n",
       "    }\n",
       "\n",
       "    .dataframe thead th {\n",
       "        text-align: right;\n",
       "    }\n",
       "</style>\n",
       "<table border=\"1\" class=\"dataframe\">\n",
       "  <thead>\n",
       "    <tr style=\"text-align: right;\">\n",
       "      <th></th>\n",
       "      <th>x1</th>\n",
       "      <th>x2</th>\n",
       "      <th>y</th>\n",
       "    </tr>\n",
       "  </thead>\n",
       "  <tbody>\n",
       "    <tr>\n",
       "      <th>0</th>\n",
       "      <td>0</td>\n",
       "      <td>0</td>\n",
       "      <td>0</td>\n",
       "    </tr>\n",
       "    <tr>\n",
       "      <th>1</th>\n",
       "      <td>0</td>\n",
       "      <td>1</td>\n",
       "      <td>1</td>\n",
       "    </tr>\n",
       "    <tr>\n",
       "      <th>2</th>\n",
       "      <td>1</td>\n",
       "      <td>0</td>\n",
       "      <td>1</td>\n",
       "    </tr>\n",
       "    <tr>\n",
       "      <th>3</th>\n",
       "      <td>1</td>\n",
       "      <td>1</td>\n",
       "      <td>0</td>\n",
       "    </tr>\n",
       "  </tbody>\n",
       "</table>\n",
       "</div>"
      ],
      "text/plain": [
       "   x1  x2  y\n",
       "0   0   0  0\n",
       "1   0   1  1\n",
       "2   1   0  1\n",
       "3   1   1  0"
      ]
     },
     "execution_count": 1,
     "metadata": {},
     "output_type": "execute_result"
    }
   ],
   "source": [
    "# XOR table\n",
    "import numpy as np\n",
    "import pandas as pd\n",
    "\n",
    "XOR_table_pd = pd.read_csv('XOR_table.csv')\n",
    "XOR_table_pd"
   ]
  },
  {
   "cell_type": "markdown",
   "metadata": {
    "id": "Y4yhYFD4h3eR"
   },
   "source": [
    "![](https://drive.google.com/uc?export=view&id=1lf82hKZxfBqhV2m5cLIRO_9pO1S3T4ty)"
   ]
  },
  {
   "cell_type": "code",
   "execution_count": 2,
   "metadata": {
    "id": "_oCWE2KK_vVr",
    "outputId": "18f4ca36-ac43-4d98-f73d-268f9267c1e3"
   },
   "outputs": [
    {
     "name": "stdout",
     "output_type": "stream",
     "text": [
      "(4, 2)\n",
      "(4, 1)\n"
     ]
    }
   ],
   "source": [
    "XOR_table = XOR_table_pd.values\n",
    "X = XOR_table[:, :2]\n",
    "targets = XOR_table[:, -1].reshape(-1,1)\n",
    "\n",
    "print(X.shape)       # Input data\n",
    "print(targets.shape) # Output targets"
   ]
  },
  {
   "cell_type": "code",
   "execution_count": 3,
   "metadata": {
    "id": "J7L0PtiRjNr5"
   },
   "outputs": [],
   "source": [
    "# Define dimensions on input, hidden and output layers\n",
    "input_dim, hidden_dim, output_dim = 2, 20, 1\n",
    "\n",
    "# Define learning rate\n",
    "learning_rate= .1\n",
    "\n",
    "# Define a hidden layer\n",
    "W1 = np.random.randn(input_dim, hidden_dim)\n",
    "# Define an output layer\n",
    "W2 = np.random.randn(hidden_dim, output_dim)\n",
    "\n",
    "# Define biases\n",
    "b1 = np.random.rand(1, hidden_dim)\n",
    "b2 = np.random.randn(1, output_dim)\n",
    "# Define sigmoid activation function\n",
    "def sigmoid(x):\n",
    "  return 1/(1 + np.exp(-x))\n",
    "\n",
    "loss_array = np.zeros((10000))\n",
    "# sigmoid(X).shape\n",
    "for i in range(10000):\n",
    "\n",
    "  # Forward pass: compute predicted y\n",
    "  z = sigmoid(np.dot(X, W1) + b1)\n",
    "  y = sigmoid(np.dot(z, W2) + b2)\n",
    "  # print(z.shape, y.shape, targets.shape, (z*y).shape)\n",
    "  # Compute and print L2-norm loss\n",
    "  J = (y-targets).T @ (y-targets)\n",
    "# print((y-targets).T @ (y-targets) == np.sum(np.sum((y-targets)**2)))\n",
    " \n",
    "  # Backprop to compute gradients of w1 and w2 with respect to L2-norm loss\n",
    "  grad_W2 = 2 * np.dot(z.T, (y - targets)*y*(1-y))\n",
    "  grad_b2 = 2 * np.sum((y - targets)*y*(1-y), axis=0, keepdims=True)\n",
    "  grad_W1 = 2 * np.dot(X.T, np.dot((y - targets)*y*(1-y), W2.T)*z*(1-z))\n",
    "  grad_b1 = 2 * np.sum(np.dot((y - targets)*y*(1-y), W2.T)*z*(1-z), axis=0, keepdims=True)\n",
    "# print(gradW2[:, 0],  2*sum((y - targets)*y*(1-y)*z).reshape(-1, 1)[:, 0])\n",
    "\n",
    "  # Update weights\n",
    "  W2 -= learning_rate * grad_W2\n",
    "  b2 -= learning_rate * grad_b2\n",
    "  W1 -= learning_rate * grad_W1\n",
    "  b1 -= learning_rate * grad_b1\n",
    "  # Save loss to an array\n",
    "  loss_array[i] = J \n"
   ]
  },
  {
   "cell_type": "code",
   "execution_count": 4,
   "metadata": {},
   "outputs": [
    {
     "data": {
      "text/plain": [
       "array([[0.],\n",
       "       [1.],\n",
       "       [1.],\n",
       "       [0.]])"
      ]
     },
     "execution_count": 4,
     "metadata": {},
     "output_type": "execute_result"
    }
   ],
   "source": [
    "# Applying an activation function to the output function for it to be exactly 1 and 0\n",
    "y[y>0.5] = 1\n",
    "y[y<=0.5] = 0\n",
    "y"
   ]
  },
  {
   "cell_type": "markdown",
   "metadata": {},
   "source": [
    "##### Plot of Output"
   ]
  },
  {
   "cell_type": "code",
   "execution_count": 5,
   "metadata": {},
   "outputs": [
    {
     "data": {
      "text/plain": [
       "<matplotlib.collections.PathCollection at 0x7fe2a1badf70>"
      ]
     },
     "execution_count": 5,
     "metadata": {},
     "output_type": "execute_result"
    },
    {
     "data": {
      "image/png": "[encoded data removed]",
      "text/plain": [
       "<Figure size 432x288 with 1 Axes>"
      ]
     },
     "metadata": {},
     "output_type": "display_data"
    }
   ],
   "source": [
    "# Plot of output: Red symbolizes 1 and Black symbolizes 0 \n",
    "\n",
    "import matplotlib.pyplot as plt\n",
    "import seaborn as sns\n",
    "sns.set_theme()\n",
    "sns.set_style(\"whitegrid\", {'axes.grid' : False})\n",
    "s = X[(y == 1).repeat(2, axis=1)].reshape((-1, 2))\n",
    "r = X[(y == 0).repeat(2, axis=1)].reshape((-1, 2))\n",
    "\n",
    "plt.scatter(s[:, 0],s[:, 1], color = 'Red', s=40)\n",
    "plt.scatter(r[:, 0],r[:, 1], color = 'Black', s=40)"
   ]
  },
  {
   "cell_type": "markdown",
   "metadata": {},
   "source": [
    "##### __3. How does your loss function change over time during training? Plot your loss during training and describe it.__\n",
    "\n",
    "The loss function first decreases rapidly to a value less than one in about 30 iterations. After that it decreases very slowly and approaches 0.1 over a thousand iterations."
   ]
  },
  {
   "cell_type": "code",
   "execution_count": 6,
   "metadata": {},
   "outputs": [
    {
     "data": {
      "text/plain": [
       "0.889652114318997"
      ]
     },
     "execution_count": 6,
     "metadata": {},
     "output_type": "execute_result"
    },
    {
     "data": {
      "image/png": "[encoded data removed]",
      "text/plain": [
       "<Figure size 432x288 with 1 Axes>"
      ]
     },
     "metadata": {},
     "output_type": "display_data"
    }
   ],
   "source": [
    "plt.xlabel(\"Iterations\")\n",
    "plt.ylabel(\"l2 loss\")\n",
    "plt.plot(loss_array)\n",
    "loss_array[30]"
   ]
  },
  {
   "cell_type": "markdown",
   "metadata": {},
   "source": [
    "##### __4. Define your own evaluation metrics, and report the performance of your network. You can split the training and validation data set from the XOR truth table, and report both the training and evaluation performance.__\n",
    "\n",
    "In this question, I used 3 evaluation metrics check the performance of the neural network:\n",
    "\n",
    "TP: True Positive, TN: True Negative, FN: False Negative, FP: False Positive\n",
    "1. Accuracy = (TN + TP)/(TN+TP+FN+FP)\n",
    "2. Recall = TP/ (TP + FN)\n",
    "3. Precision = TP / (TP + FP)"
   ]
  },
  {
   "cell_type": "code",
   "execution_count": 7,
   "metadata": {},
   "outputs": [
    {
     "name": "stdout",
     "output_type": "stream",
     "text": [
      "Accuracy score:  1.0\n",
      "Precision score:  1.0\n",
      "Recall score:  1.0\n"
     ]
    }
   ],
   "source": [
    "from sklearn.metrics import accuracy_score\n",
    "from sklearn.metrics import precision_score\n",
    "from sklearn.metrics import recall_score  \n",
    "\n",
    "print(\"Accuracy score: \", accuracy_score(targets,  y))\n",
    "print(\"Precision score: \", precision_score(targets, y, average=\"micro\"))\n",
    "print(\"Recall score: \", precision_score(targets, y, average=\"micro\"))"
   ]
  },
  {
   "cell_type": "markdown",
   "metadata": {},
   "source": [
    "##### __5. Plot and describe the decision boundary of the XOR network, try to explain it.__\n",
    "\n",
    "The decision boundary seems to be approximating hyperbolic curve. The inner region symbolizes value 0 and outer region symbolizes value 1."
   ]
  },
  {
   "cell_type": "code",
   "execution_count": 8,
   "metadata": {},
   "outputs": [
    {
     "data": {
      "text/plain": [
       "<matplotlib.collections.PathCollection at 0x7fe29ebf5970>"
      ]
     },
     "execution_count": 8,
     "metadata": {},
     "output_type": "execute_result"
    },
    {
     "data": {
      "image/png": "[encoded data removed]",
      "text/plain": [
       "<Figure size 432x288 with 1 Axes>"
      ]
     },
     "metadata": {},
     "output_type": "display_data"
    }
   ],
   "source": [
    "x1_points = np.linspace(-0.2, 1.2, num=1000)\n",
    "x2_points = np.linspace(-0.2, 1.2, num=1000)\n",
    "outputs = np.zeros((len(x1_points), len(x2_points)))\n",
    "points = []\n",
    "\n",
    "for i in range(len(x1_points)):\n",
    "    for j in range(len(x2_points)):\n",
    "        x = np.asarray([x1_points[i], x2_points[j]])\n",
    "        \n",
    "        z=sigmoid(np.dot(x,W1) + b1)\n",
    "        y=sigmoid(np.dot(z,W2) + b2) \n",
    "        if y > 0.5:\n",
    "            points.append(x)\n",
    "\n",
    "        outputs[i, j] = y\n",
    "\n",
    "outputs\n",
    "points = np.array(points).copy()\n",
    "plt.scatter(points[:, 0], points[:, 1])\n",
    "plt.scatter([1,0],[0,1], color = 'Red', s = 70)\n",
    "plt.scatter([0,1],[0,1], color = 'Black', s = 70)\n"
   ]
  },
  {
   "cell_type": "code",
   "execution_count": null,
   "metadata": {},
   "outputs": [],
   "source": []
  },
  {
   "cell_type": "code",
   "execution_count": null,
   "metadata": {},
   "outputs": [],
   "source": []
  }
 ],
 "metadata": {
  "colab": {
   "collapsed_sections": [],
   "name": "Lab1.ipynb",
   "provenance": []
  },
  "kernelspec": {
   "display_name": "Python 3",
   "language": "python",
   "name": "python3"
  },
  "language_info": {
   "codemirror_mode": {
    "name": "ipython",
    "version": 3
   },
   "file_extension": ".py",
   "mimetype": "text/x-python",
   "name": "python",
   "nbconvert_exporter": "python",
   "pygments_lexer": "ipython3",
   "version": "3.9.11"
  }
 },
 "nbformat": 4,
 "nbformat_minor": 1
}
