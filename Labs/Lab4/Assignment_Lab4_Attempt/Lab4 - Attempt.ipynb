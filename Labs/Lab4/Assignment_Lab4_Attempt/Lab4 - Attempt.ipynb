{
  "cells": [
    {
      "cell_type": "markdown",
      "metadata": {
        "id": "7KixHYy9Y5Tu"
      },
      "source": [
        "# Lab 3: Convolutional Neural Nets (CNNs)"
      ]
    },
    {
      "cell_type": "markdown",
      "metadata": {
        "id": "fwKIp1t6Y-0w"
      },
      "source": [
        "## Example: CNN Implementation"
      ]
    },
    {
      "cell_type": "markdown",
      "metadata": {
        "id": "XaRkxg62ZH3e"
      },
      "source": [
        "## Assignment: LeNet5 Implementation - Solution\n",
        "\n",
        "##### __1. Implement LeNet in PyTorch with tanh activation and Adam Optimizer,  achieve greater than 95% accuracy on the MNIST classification task.__\n",
        "Done. Achieved a Test Accuracy = 0.987500.\n",
        "\n",
        " \n",
        "\n",
        "##### __2. What values did you use for following hyperparameters when training LeNet that meets the accuracy requirement?__\n",
        "\n",
        "__1) Learning Rate__<br />\n",
        "Learning Rate = 0.001\n",
        "\n",
        "__2) Batch Size__\n",
        "I used the following batch sizes:<br /> \n",
        "Training batch size = 50 \n",
        "Testing Batch Size  = 40 \n",
        "\n",
        "__3) Dropout (if any) after your convolutional layers__ <br />\n",
        "I did not use any dropout\n",
        "\n",
        "__4) Any other hyperparameters you set manually (regularization, normalization, etc.)__ <br />\n",
        "Used adam optimizer. Also used batch normalization\n",
        "\n",
        "__3. Please plot the first 10 test images with a title that shows the probability of the predicted class.__ <br />\n",
        "The plotted images are availabe below as required.\n",
        "\n"
      ]
    },
    {
      "cell_type": "code",
      "execution_count": 1,
      "metadata": {},
      "outputs": [],
      "source": [
        "import torch\n",
        "import torchvision\n",
        "import torch.nn as nn\n",
        "import matplotlib.pyplot as plt\n",
        "\n",
        "train_batch_size = 50 #Define train batch size\n",
        "test_batch_size  = 40 #Define test batch size (can be larger than train batch size)\n",
        "\n",
        "\n",
        "# Use the following code to load and normalize the dataset\n",
        "train_loader = torch.utils.data.DataLoader(\n",
        "  torchvision.datasets.MNIST('./Lab4/Assignment_Lab4_Attempt/files/', train=True, download=True,\n",
        "                             transform=torchvision.transforms.Compose([\n",
        "                               torchvision.transforms.Pad(2),\n",
        "                               torchvision.transforms.ToTensor(),\n",
        "                               torchvision.transforms.Normalize(\n",
        "                                 (0.5,), (0.5,))\n",
        "                             ])),\n",
        "  batch_size=train_batch_size, shuffle=True)\n",
        "\n",
        "test_loader = torch.utils.data.DataLoader(\n",
        "  torchvision.datasets.MNIST('./Lab4/Assignment_Lab4_Attempt/files/', train=False, download=True,\n",
        "                             transform=torchvision.transforms.Compose([\n",
        "                               torchvision.transforms.Pad(2),\n",
        "                               torchvision.transforms.ToTensor(),\n",
        "                               torchvision.transforms.Normalize(\n",
        "                                 (0.5,), (0.5,))\n",
        "                             ])),\n",
        "  batch_size=test_batch_size, shuffle=True)"
      ]
    },
    {
      "cell_type": "code",
      "execution_count": 2,
      "metadata": {},
      "outputs": [
        {
          "data": {
            "text/plain": [
              "torch.Size([50, 1, 32, 32])"
            ]
          },
          "execution_count": 2,
          "metadata": {},
          "output_type": "execute_result"
        }
      ],
      "source": [
        "list(train_loader)[0][0].size()"
      ]
    },
    {
      "cell_type": "code",
      "execution_count": 50,
      "metadata": {
        "id": "4O7KPNtHpnSx"
      },
      "outputs": [],
      "source": [
        "class LeNet5(nn.Module):\n",
        "\n",
        "    def __init__(self, n_classes):\n",
        "        super(LeNet5, self).__init__()\n",
        "        \n",
        "        #define LeNet5\n",
        "        self.C1 = nn.Sequential(\n",
        "            nn.Conv2d(in_channels=1, out_channels=6, kernel_size=5, stride=1, padding=0),\n",
        "            nn.BatchNorm2d(6), \n",
        "            nn.Tanh(),\n",
        "            nn.AvgPool2d(kernel_size=2, stride=2)\n",
        "            )\n",
        "        self.C2 = nn.Sequential(\n",
        "            nn.Conv2d(in_channels=6, out_channels=16, kernel_size=5, stride=1, padding=0),\n",
        "            nn.BatchNorm2d(16),\n",
        "            nn.Tanh(),\n",
        "            nn.AvgPool2d(kernel_size=2, stride=2) \n",
        "        )\n",
        "        self.classifier = nn.Sequential(\n",
        "            nn.Linear(in_features=400, out_features=120),\n",
        "            nn.Tanh(),\n",
        "            nn.Linear(in_features=120, out_features=84),\n",
        "            nn.Tanh(),\n",
        "            nn.Linear(in_features=84, out_features=n_classes)\n",
        "        )\n",
        "        self.softmax = nn.Softmax(dim=1)\n",
        "\n",
        "    def forward(self, input):\n",
        "        #Define forward pass\n",
        "        x = self.C1(input)\n",
        "        x = self.C2(x)\n",
        "        x = x.reshape(x.size(0), -1)\n",
        "        logits = self.classifier(x)\n",
        "        probs = self.softmax(logits)\n",
        "        return logits, probs   #can also return probabilities\n",
        "                        #by performing softmax\n",
        "\n",
        "\n"
      ]
    },
    {
      "cell_type": "code",
      "execution_count": 51,
      "metadata": {},
      "outputs": [],
      "source": [
        "device = torch.device('cuda' if torch.cuda.is_available() else 'cpu')\n",
        "model = LeNet5(10).to(device)\n",
        "\n",
        "learning_rate = 0.001\n",
        "#Setting the loss function\n",
        "criterion = nn.CrossEntropyLoss()\n",
        "optimizer = torch.optim.Adam(model.parameters(), lr=learning_rate) \n",
        "epochs = 5"
      ]
    },
    {
      "cell_type": "code",
      "execution_count": 52,
      "metadata": {},
      "outputs": [
        {
          "name": "stdout",
          "output_type": "stream",
          "text": [
            "\n",
            "Epoch: 0 \tTraining Loss: 0.177379 \tTraining Accuracy:  0.950867\n",
            "\n",
            "Epoch: 1 \tTraining Loss: 0.060330 \tTraining Accuracy:  0.981917\n",
            "\n",
            "Epoch: 2 \tTraining Loss: 0.044864 \tTraining Accuracy:  0.986367\n",
            "\n",
            "Epoch: 3 \tTraining Loss: 0.035081 \tTraining Accuracy:  0.989133\n",
            "\n",
            "Epoch: 4 \tTraining Loss: 0.028859 \tTraining Accuracy:  0.990583\n"
          ]
        }
      ],
      "source": [
        "train_accuracy = []\n",
        "train_loss_array = []\n",
        "for epoch in range(epochs):\n",
        "  model.train()\n",
        "  train_sample_counts = 0\n",
        "  epoch_corrects = 0   \n",
        "  train_loss = 0.0\n",
        "  for x_train, y_train in train_loader:\n",
        "      x_train, y_train = x_train.to(device), y_train.to(device) \n",
        "      y_train_predict, _ = model(x_train)\n",
        "      loss = criterion(y_train_predict, y_train)  # Output of model = (logits, probits)\n",
        "      optimizer.zero_grad() # reset the gradients \n",
        "      loss.backward() # compute backpropagation\n",
        "      optimizer.step() # perform parameter update\n",
        "      with torch.no_grad():\n",
        "        _, predictions = torch.max(y_train_predict, 1)\n",
        "        \n",
        "        epoch_corrects += (predictions == y_train).sum()\n",
        "        train_sample_counts += x_train.size(0)\n",
        "        train_loss += loss.item() * x_train.size(0)\n",
        "  epoch_accuracy = epoch_corrects/train_sample_counts\n",
        "  train_accuracy.append(epoch_accuracy)\n",
        "  train_loss_epoch = train_loss/train_sample_counts\n",
        "  train_loss_array.append(train_loss_epoch)\n",
        "  print()\n",
        "  print(f'Epoch: {epoch} \\tTraining Loss: {train_loss_epoch:.6f} \\tTraining Accuracy:  {epoch_accuracy:.6f}')\n",
        "\n",
        "\n"
      ]
    },
    {
      "cell_type": "code",
      "execution_count": 53,
      "metadata": {},
      "outputs": [
        {
          "name": "stdout",
          "output_type": "stream",
          "text": [
            "Test Accuracy:  0.987500\n"
          ]
        },
        {
          "data": {
            "text/plain": [
              "tensor(0.9875, device='cuda:0')"
            ]
          },
          "execution_count": 53,
          "metadata": {},
          "output_type": "execute_result"
        }
      ],
      "source": [
        "def test():\n",
        "    model.eval()\n",
        "    epoch_corrects = 0\n",
        "    test_sample_counts = 0\n",
        "    epoch_accuracy = 0\n",
        "    for x_test, y_test in test_loader:    \n",
        "        #Calculate training loss on model\n",
        "        x_test, y_test = x_test.to(device), y_test.to(device)\n",
        "        y_pred, _ = model(x_test) # Output of model = (logits, probits)\n",
        "        loss = criterion(y_pred, y_test)\n",
        "        predictions = torch.max(y_pred, 1)[1]\n",
        "        epoch_corrects += (predictions == y_test).sum()\n",
        "        test_sample_counts += len(y_test)\n",
        "\n",
        "        # print(epoch)\n",
        "    epoch_accuracy = epoch_corrects/test_sample_counts\n",
        "    print(f'Test Accuracy:  {epoch_accuracy:.6f}')\n",
        "    return epoch_accuracy\n",
        "test()"
      ]
    },
    {
      "cell_type": "code",
      "execution_count": 67,
      "metadata": {},
      "outputs": [
        {
          "data": {
            "text/plain": [
              "Text(0.5, 0.98, 'LeNet5 - Predictions')"
            ]
          },
          "execution_count": 67,
          "metadata": {},
          "output_type": "execute_result"
        },
        {
          "data": {
            "image/png": "[encoded data removed]",
            "text/plain": [
              "<Figure size 432x288 with 10 Axes>"
            ]
          },
          "metadata": {},
          "output_type": "display_data"
        }
      ],
      "source": [
        "import seaborn as sns\n",
        "sns.set_theme()\n",
        "sns.set_style(\"whitegrid\", {'axes.grid' : False})\n",
        "test_x_set, _ = next(iter(test_loader))\n",
        "NCols = 5\n",
        "NRows = 2\n",
        "fig = plt.figure()\n",
        "for index in range(NCols * NRows):\n",
        "    plt.subplot(NRows, NCols, index + 1)\n",
        "    plt.axis(\"off\")\n",
        "    plt.imshow(test_x_set[index].squeeze().cpu(), cmap=\"gray_r\")\n",
        "    test_x_set = test_x_set.to(device)\n",
        "    _, probs = model(test_x_set)\n",
        "    title = f'{torch.argmax(probs[index])} ({torch.max(probs[index]):.5f}%)'\n",
        "    plt.title(title, fontsize=7)\n",
        "    \n",
        "fig.suptitle('LeNet5 - Predictions')"
      ]
    },
    {
      "cell_type": "code",
      "execution_count": null,
      "metadata": {},
      "outputs": [],
      "source": []
    }
  ],
  "metadata": {
    "colab": {
      "collapsed_sections": [],
      "name": "Lab 3.ipynb",
      "provenance": []
    },
    "kernelspec": {
      "display_name": "Python 3",
      "name": "python3"
    },
    "language_info": {
      "codemirror_mode": {
        "name": "ipython",
        "version": 3
      },
      "file_extension": ".py",
      "mimetype": "text/x-python",
      "name": "python",
      "nbconvert_exporter": "python",
      "pygments_lexer": "ipython3",
      "version": "3.9.11"
    }
  },
  "nbformat": 4,
  "nbformat_minor": 0
}
